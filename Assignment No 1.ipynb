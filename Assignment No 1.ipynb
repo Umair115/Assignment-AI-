{
 "cells": [
  {
   "cell_type": "code",
   "execution_count": 9,
   "metadata": {},
   "outputs": [
    {
     "name": "stdout",
     "output_type": "stream",
     "text": [
      "My name is Daniyal Khan Durrani.\n",
      "I am 19 years old.\n",
      "I was born on 22-August-2000.\n",
      "I live in Karachi.\n",
      "I like to play Cricket.\n",
      "I passed my Matric from Metropolis Academy and Intermediate from DJ Sindh Govt.Science College.\n",
      "Now I am studying Software Engineering at Usman Institute of Technology.\n"
     ]
    }
   ],
   "source": [
    "name = 'Daniyal Khan Durrani'\n",
    "age = 19\n",
    "birth_date = '22-August-2000'\n",
    "city = 'Karachi'\n",
    "hobbies = 'Cricket'\n",
    "field = 'Software Engineering'\n",
    "university = 'Usman Institute of Technology'\n",
    "college = 'DJ Sindh Govt.Science College'\n",
    "school = 'Metropolis Academy'\n",
    "print('My name is {}.'.format(name))\n",
    "print('I am {} years old.'.format(age))\n",
    "print('I was born on {}.'.format(birth_date))\n",
    "print('I live in {}.'.format(city))\n",
    "print('I like to play {}.'.format(hobbies))\n",
    "print('I passed my Matric from {} and Intermediate from {}.'.format(school,college))\n",
    "print('Now I am studying {} at {}.'.format(field, university))"
   ]
  }
 ],
 "metadata": {
  "kernelspec": {
   "display_name": "Python 3",
   "language": "python",
   "name": "python3"
  },
  "language_info": {
   "codemirror_mode": {
    "name": "ipython",
    "version": 3
   },
   "file_extension": ".py",
   "mimetype": "text/x-python",
   "name": "python",
   "nbconvert_exporter": "python",
   "pygments_lexer": "ipython3",
   "version": "3.7.4"
  }
 },
 "nbformat": 4,
 "nbformat_minor": 2
}
