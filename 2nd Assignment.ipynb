{
 "cells": [
  {
   "cell_type": "markdown",
   "metadata": {},
   "source": [
    "## 1. Divisibility Check of two numbers\n",
    "\n",
    "Write a Python program to check whether a number is completely divisible by another number. Accept two integer values form the user\n",
    "##### Program Console Sample Output 1:\n",
    "Enter numerator: 4\n",
    "\n",
    "Enter Denominator: 2\n",
    "\n",
    "Number 4 is Completely divisible by 2\n",
    "###### Program Console Sample Output 2:\n",
    "Enter numerator: 7\n",
    "\n",
    "Enter Denominator: 4\n",
    "\n",
    "Number 7 is not Completely divisible by 4"
   ]
  },
  {
   "cell_type": "code",
   "execution_count": 3,
   "metadata": {},
   "outputs": [
    {
     "name": "stdout",
     "output_type": "stream",
     "text": [
      "Enter the numerator num: 4\n",
      "Enter the denomenator num: 2\n",
      "Enter the numerator num: 7\n",
      "Enter the denomenator num: 4\n",
      "The number 4 is completely divisible by number 2\n",
      "Its not completely divisible by 4\n"
     ]
    }
   ],
   "source": [
    "num1 = int(input(\"Enter the numerator num: \"))\n",
    "num2 = int(input(\"Enter the denomenator num: \"))\n",
    "num3 = int(input(\"Enter the numerator num: \"))\n",
    "num4 = int(input(\"Enter the denomenator num: \"))\n",
    "\n",
    "if num1 % num2 == 0:\n",
    "    print('The number {} is completely divisible by number {}'.format(num1, num2))\n",
    "else:\n",
    "    print('Its not completely divisible by {}'.format(num2))\n",
    "if num3 % num4 == 0:\n",
    "    print('The number {} is completely divisible by number {}'.format(num3, num4))\n",
    "else:\n",
    "    print('Its not completely divisible by {}'.format(num4))"
   ]
  },
  {
   "cell_type": "markdown",
   "metadata": {},
   "source": [
    "## 2. Copy string n times\n",
    "Write a Python program to get a string which is n (non-negative integer) copies of a given string.\n",
    "##### Program Console Output:\n",
    "Enter String: Hi\n",
    "\n",
    "How many copies of String you need: 4\n",
    "\n",
    "4 Copies of Hi are HiHiHiHi"
   ]
  },
  {
   "cell_type": "code",
   "execution_count": 5,
   "metadata": {},
   "outputs": [
    {
     "name": "stdout",
     "output_type": "stream",
     "text": [
      "Enter the string: Hi\n",
      "Enter how many times you want to copy it: 4\n",
      "The 4 copies of Hi are HiHiHiHi\n"
     ]
    }
   ],
   "source": [
    "st = ''\n",
    "string = input('Enter the string: ')\n",
    "n = int(input('Enter how many times you want to copy it: '))\n",
    "for i in range(n):\n",
    "    st += string\n",
    "print('The {} copies of {} are {}'.format(n, string, st))"
   ]
  },
  {
   "cell_type": "markdown",
   "metadata": {},
   "source": [
    "## 3. Vowel Tester\n",
    "Write a Python program to test whether a passed letter is a vowel or not\n",
    "#### Program Console Output 1:\n",
    "Enter a character: A\n",
    "\n",
    "Letter A is Vowel\n",
    "#### Program Console Output 2:\n",
    "Enter a character: e\n",
    "\n",
    "Letter e is Vowel\n",
    "#### Program Console Output 2:\n",
    "Enter a character: N\n",
    "Letter N is not Vowel"
   ]
  },
  {
   "cell_type": "code",
   "execution_count": 9,
   "metadata": {},
   "outputs": [
    {
     "name": "stdout",
     "output_type": "stream",
     "text": [
      "Enter a character: a\n",
      "a is a vowel\n"
     ]
    }
   ],
   "source": [
    "letter = input('Enter a character: ')\n",
    "\n",
    "if letter in 'AEIUOaeiou':\n",
    "    print(letter, 'is a vowel')\n",
    "else:\n",
    "    print(letter, 'is not a vowel')"
   ]
  },
  {
   "cell_type": "markdown",
   "metadata": {},
   "source": [
    "## 4. Odd No.s\n",
    "Use the third argument of the range() function to make a list of the odd numbers from 1 to 20. Use a for loop to print each number."
   ]
  },
  {
   "cell_type": "code",
   "execution_count": 10,
   "metadata": {},
   "outputs": [
    {
     "name": "stdout",
     "output_type": "stream",
     "text": [
      "1 3 5 7 9 11 13 15 17 19 "
     ]
    }
   ],
   "source": [
    "for i in range(21):\n",
    "    if i % 2 != 0:\n",
    "        print(i, end = ' ')"
   ]
  },
  {
   "cell_type": "markdown",
   "metadata": {},
   "source": [
    "## 5. Food Slicing\n",
    "Make a python program that contains your nine favourite dishes in a list called foods.Print the message, \n",
    "\n",
    "**The first three items in the list are:**\n",
    "\n",
    "Then use a slice to print the first three items from that program’s list.Print the message, \n",
    "\n",
    "**Three items from the middle of the list are:**\n",
    "\n",
    "Use a slice to print three items from the middle of the list.Print the message, \n",
    "\n",
    "**The last three items in the list are:**\n",
    "\n",
    "Use a slice to print the last three items in the list."
   ]
  },
  {
   "cell_type": "code",
   "execution_count": 12,
   "metadata": {},
   "outputs": [
    {
     "name": "stdout",
     "output_type": "stream",
     "text": [
      "burger pizza biryani\n",
      "pasta lasania handi\n",
      "qorma pulao karhai\n"
     ]
    }
   ],
   "source": [
    "foods = ['burger', 'pizza', 'biryani', 'pasta', 'lasania', 'handi', 'qorma', 'pulao', 'karhai']\n",
    "print(foods[0], foods[1], foods[2])\n",
    "print(foods[3], foods[4], foods[5])\n",
    "print(foods[6], foods[7], foods[8])"
   ]
  }
 ],
 "metadata": {
  "kernelspec": {
   "display_name": "Python 3",
   "language": "python",
   "name": "python3"
  },
  "language_info": {
   "codemirror_mode": {
    "name": "ipython",
    "version": 3
   },
   "file_extension": ".py",
   "mimetype": "text/x-python",
   "name": "python",
   "nbconvert_exporter": "python",
   "pygments_lexer": "ipython3",
   "version": "3.7.4"
  }
 },
 "nbformat": 4,
 "nbformat_minor": 2
}
